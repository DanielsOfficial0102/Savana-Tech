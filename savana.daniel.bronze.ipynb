{
 "cells": [
  {
   "cell_type": "markdown",
   "metadata": {
    "application/vnd.databricks.v1+cell": {
     "cellMetadata": {},
     "inputWidgets": {},
     "nuid": "ba28c80c-cc1a-42b1-965c-74ab7fac4b56",
     "showTitle": false,
     "tableResultSettingsMap": {},
     "title": ""
    }
   },
   "source": [
    "#### Configurando e Acessando o \"Blob\"\n",
    "\n",
    "##### Está Funcional"
   ]
  },
  {
   "cell_type": "code",
   "execution_count": 0,
   "metadata": {
    "application/vnd.databricks.v1+cell": {
     "cellMetadata": {
      "byteLimit": 2048000,
      "rowLimit": 10000
     },
     "inputWidgets": {},
     "nuid": "dbf373fe-7dd1-4bd4-af44-6a120b8dda7f",
     "showTitle": false,
     "tableResultSettingsMap": {},
     "title": ""
    }
   },
   "outputs": [],
   "source": [
    "# CONFIGURAÇÃO DO STORAGE\n",
    "storage_account_name = \"lakesavana\"\n",
    "storage_account_key = \"M4OYEhV7y/mOowqVqZRcLfm2taCeU7eF8WEROHP5gEV22EbpDFUZx5OsCtzjeoyJ2fna0FRGjqaz+AStYvlGeA==\"\n",
    "\n",
    "# Definir configuração no Spark\n",
    "spark.conf.set(\n",
    "  f\"fs.azure.account.key.{storage_account_name}.blob.core.windows.net\",\n",
    "  storage_account_key\n",
    ")"
   ]
  },
  {
   "cell_type": "markdown",
   "metadata": {
    "application/vnd.databricks.v1+cell": {
     "cellMetadata": {},
     "inputWidgets": {},
     "nuid": "551a0b27-4aae-428b-86c0-5b67d271b52e",
     "showTitle": false,
     "tableResultSettingsMap": {},
     "title": ""
    }
   },
   "source": [
    "#### Por motivos de não entender ainda como funciona o \"Unity Catalog\" decidiu provisoriamente copiar os dados do blob e criar numa pasta que não tem essa burocracia para efeito de Testes"
   ]
  },
  {
   "cell_type": "code",
   "execution_count": 0,
   "metadata": {
    "application/vnd.databricks.v1+cell": {
     "cellMetadata": {
      "byteLimit": 2048000,
      "rowLimit": 10000
     },
     "inputWidgets": {},
     "nuid": "01ba3886-8f8b-4292-b68e-14c6d6bbdf90",
     "showTitle": false,
     "tableResultSettingsMap": {},
     "title": ""
    }
   },
   "outputs": [],
   "source": [
    "# Leitura dos dados Parquet fora do Unity Catalog\n",
    "df_clientes = spark.read.parquet(\"wasbs://lake@lakesavana.blob.core.windows.net/daniel.teste/tables/0a6c3f04-3748-4d9e-9b2f-6400c0dc680b/\")\n",
    "\n",
    "# Criação da tabela bronze no Unity Catalog\n",
    "df_clientes.write.mode(\"overwrite\").saveAsTable(\"savana.daniel.bronze.clientes\")\n"
   ]
  },
  {
   "cell_type": "code",
   "execution_count": 0,
   "metadata": {
    "application/vnd.databricks.v1+cell": {
     "cellMetadata": {
      "byteLimit": 2048000,
      "rowLimit": 10000
     },
     "inputWidgets": {},
     "nuid": "c456b51d-bd66-4ad4-8474-aeb004502d0c",
     "showTitle": false,
     "tableResultSettingsMap": {},
     "title": ""
    }
   },
   "outputs": [],
   "source": [
    "# Caminho para a nova pasta\n",
    "path = \"wasbs://lake@lakesavana.blob.core.windows.net/daniel.teste/0a6c3f04-3748-4d9e-9b2f-6400c0dc680b/part-00000-7d8b9fe2-3973-4e8f-bf94-1d0030db0f70-c000.snappy.parquet\"\n",
    "\n",
    "# Leitura do parquet\n",
    "df = spark.read.parquet(path)\n",
    "\n",
    "# Visualizar os dados\n",
    "display(df)\n"
   ]
  },
  {
   "cell_type": "markdown",
   "metadata": {
    "application/vnd.databricks.v1+cell": {
     "cellMetadata": {},
     "inputWidgets": {},
     "nuid": "b4cd48e3-5967-4cdd-a773-c071f8c082db",
     "showTitle": false,
     "tableResultSettingsMap": {},
     "title": ""
    }
   },
   "source": [
    "\n",
    "#### Ler o Aquivo Parquet do Blob Storage\n",
    "##### Acredito que por agora não tem muito o que fazer, o problema está sendo o unity Catalog"
   ]
  },
  {
   "cell_type": "code",
   "execution_count": 0,
   "metadata": {
    "application/vnd.databricks.v1+cell": {
     "cellMetadata": {
      "byteLimit": 2048000,
      "rowLimit": 10000
     },
     "inputWidgets": {},
     "nuid": "048e4160-3f0f-4fa4-b018-3d520d19f565",
     "showTitle": false,
     "tableResultSettingsMap": {},
     "title": ""
    }
   },
   "outputs": [],
   "source": [
    "# Caminho para os arquivos\n",
    "path_base = \"wasbs://lake@lakesavana.blob.core.windows.net/__unitystorage/catalogs/10af6d1d-32a1-46c7-95d7-ef4fbde791d4/tables/0a6c3f04-3748-4d9e-9b2f-6400c0dc680b/\"\n",
    "\n",
    "# Leitura dos arquivos Parquet\n",
    "df = spark.read.parquet(path_base)\n",
    "\n",
    "# Visualizar as primeiras linhas\n",
    "display(df)\n"
   ]
  },
  {
   "cell_type": "markdown",
   "metadata": {
    "application/vnd.databricks.v1+cell": {
     "cellMetadata": {},
     "inputWidgets": {},
     "nuid": "34b15d57-172e-4ae7-942f-8e6548017e39",
     "showTitle": false,
     "tableResultSettingsMap": {},
     "title": ""
    }
   },
   "source": [
    "#### Teste do ChatGpt"
   ]
  },
  {
   "cell_type": "code",
   "execution_count": 0,
   "metadata": {
    "application/vnd.databricks.v1+cell": {
     "cellMetadata": {
      "byteLimit": 2048000,
      "rowLimit": 10000
     },
     "inputWidgets": {},
     "nuid": "71ddd7ac-7761-4782-9b40-a7aea3dde99b",
     "showTitle": false,
     "tableResultSettingsMap": {},
     "title": ""
    }
   },
   "outputs": [],
   "source": [
    "# CONFIGURAÇÃO DO STORAGE\n",
    "storage_account_name = \"lakesavana\"\n",
    "storage_account_key = \"M4oYEhNV7y/mOoowVqZRcLfm2taCeU7eF8WEROHP5gEV22EbpDFUZx5OsCtzjeoyJ2fna0FRGjqaz+AStYv1GeA==\"\n",
    "\n",
    "# Definir configuração no Spark\n",
    "spark.conf.set(\n",
    "    f\"fs.azure.account.key.{storage_account_name}.blob.core.windows.net\",\n",
    "    storage_account_key\n",
    ")\n",
    "\n",
    "# Testar conexão listando arquivos no container\n",
    "caminho_teste = f\"wasbs://{storage_account_name}@{storage_account_name}.blob.core.windows.net/\"\n",
    "\n",
    "try:\n",
    "    arquivos = dbutils.fs.ls(caminho_teste)\n",
    "    print(\"✅ Conexão bem-sucedida! Arquivos encontrados:\")\n",
    "    for arquivo in arquivos:\n",
    "        print(f\"- {arquivo.path}\")\n",
    "except Exception as e:\n",
    "    print(\"❌ Erro ao acessar o Storage:\", e)\n"
   ]
  }
 ],
 "metadata": {
  "application/vnd.databricks.v1+notebook": {
   "computePreferences": null,
   "dashboards": [],
   "environmentMetadata": {
    "base_environment": "",
    "environment_version": "2"
   },
   "inputWidgetPreferences": null,
   "language": "python",
   "notebookMetadata": {
    "pythonIndentUnit": 4
   },
   "notebookName": "savana.daniel.bronze",
   "widgets": {}
  },
  "language_info": {
   "name": "python"
  }
 },
 "nbformat": 4,
 "nbformat_minor": 0
}
