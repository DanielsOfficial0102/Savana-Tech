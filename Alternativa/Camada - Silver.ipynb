{
 "cells": [
  {
   "cell_type": "markdown",
   "metadata": {
    "application/vnd.databricks.v1+cell": {
     "cellMetadata": {
      "byteLimit": 2048000,
      "rowLimit": 10000
     },
     "inputWidgets": {},
     "nuid": "0d53b51e-5e78-4791-9103-ad8dcfb3dd30",
     "showTitle": false,
     "tableResultSettingsMap": {},
     "title": ""
    }
   },
   "source": [
    "## 🥈 Camada Silver – Tratamento e Enriquecimento"
   ]
  },
  {
   "cell_type": "markdown",
   "metadata": {
    "application/vnd.databricks.v1+cell": {
     "cellMetadata": {
      "byteLimit": 2048000,
      "rowLimit": 10000
     },
     "inputWidgets": {},
     "nuid": "e1093e98-e390-4655-83d0-f7e8cce8568e",
     "showTitle": false,
     "tableResultSettingsMap": {},
     "title": ""
    }
   },
   "source": [
    "#### 🧪 Passo 1 : Tratamentos das Tabelas + Join"
   ]
  },
  {
   "cell_type": "code",
   "execution_count": 0,
   "metadata": {
    "application/vnd.databricks.v1+cell": {
     "cellMetadata": {
      "byteLimit": 2048000,
      "rowLimit": 10000
     },
     "inputWidgets": {},
     "nuid": "102891ed-d9b2-4d90-9fe4-890d2994b4b8",
     "showTitle": true,
     "tableResultSettingsMap": {
      "0": {
       "dataGridStateBlob": null,
       "filterBlob": "{\"version\":1,\"filterGroups\":[],\"syncTimestamp\":1750788363275}",
       "queryPlanFiltersBlob": "[]",
       "tableResultIndex": 0
      }
     },
     "title": "Tratamento"
    }
   },
   "outputs": [],
   "source": [
    "# Importação\n",
    "from pyspark.sql.functions import trim, col, when, lit, countDistinct\n",
    "from pyspark.sql.types import StringType\n",
    "\n",
    "# Leitura das tabelas bronze\n",
    "df_transacoes = spark.table(\"adb_cliente_savana_prd.daniel_bronze.transacoes_teste\").alias(\"transacoes\")\n",
    "df_clientes = spark.table(\"adb_cliente_savana_prd.daniel_bronze.clientes_teste\").alias(\"clientes\")\n",
    "\n",
    "# Join\n",
    "df_silver = df_transacoes.join(\n",
    "    df_clientes,\n",
    "    [col(\"transacoes.ID_Cliente\") == col(\"clientes.ID\")]\n",
    ").drop(\"ID\")  # Não precisamos mais do \"ID\" ja que ele virou \"\"\n",
    "\n",
    "# Limpeza de espaços extras\n",
    "for campo in [\"Nome\", \"Cidade\", \"Meio_de_Pgmt\"]:\n",
    "    if campo in df_silver.columns:\n",
    "        df_silver = df_silver.withColumn(campo, trim(col(campo)))\n",
    "\n",
    "# Correções manuais de erros de Nome conhecidos\n",
    "df_silver = df_silver.withColumn(\"Nome\",\n",
    "    when(col(\"Nome\") == \"Andr Barros\", \"André Barros\")\n",
    "    .when(col(\"Nome\") == \"Joo Souza\", \"João Souza\")\n",
    "    .when(col(\"Nome\") == \"Lcia Azevedo\", \"Leticia Azevedo\")\n",
    "    .when(col(\"Nome\") == \"Patrcia Gomes\", \"Patricia Gomes\")\n",
    "    .otherwise(col(\"Nome\"))\n",
    ")\n",
    "\n",
    "# Correções manuais de erros de Cidades conhecidas\n",
    "df_silver = df_silver.withColumn(\"Cidade\",\n",
    "    when(col(\"Cidade\") == \"Braslia\", \"Brasília\")\n",
    "    .when(col(\"Cidade\") == \"Florianpolis\", \"Florianopolis\")\n",
    "    .when(col(\"Cidade\") == \"Joo Pessoa\", \"João Pessoa\")\n",
    "    .when(col(\"Cidade\") == \"Macap\", \"Macapá\")\n",
    "    .when(col(\"Cidade\") == \"So Lus\", \"São Luis\")\n",
    "    .when(col(\"Cidade\") == \"So Paulo\", \"São Paulo\")\n",
    "    .when(col(\"Cidade\") == \"Vitria\", \"Vitória\")\n",
    "    .otherwise(col(\"Cidade\"))\n",
    ")\n",
    "\n",
    "# Padronizar nulos\n",
    "def padronizar_nulls(df):\n",
    "    for campo in df.schema.names:\n",
    "        if df.schema[campo].dataType == StringType():\n",
    "            df = df.withColumn(campo, when(trim(col(campo)) == \"\", None).otherwise(col(campo)))\n",
    "    return df\n",
    "\n",
    "# Aplicar ao df_silver\n",
    "df_silver = padronizar_nulls(df_silver)\n",
    "\n",
    "# Validar se a coluna \"CPF\" pertence a mais de um \"ID_Cliente\"\n",
    "df_cpf_validacao = df_silver.groupBy(\"CPF\").agg(countDistinct(\"ID_Cliente\").alias(\"distinct_ID_Clientes\"))\n",
    "df_cpf_incorreto = df_cpf_validacao.filter(col(\"distinct_ID_Clientes\") > 1)\n",
    "\n",
    "# Exibir\n",
    "display(df_cpf_incorreto)"
   ]
  },
  {
   "cell_type": "markdown",
   "metadata": {
    "application/vnd.databricks.v1+cell": {
     "cellMetadata": {
      "byteLimit": 2048000,
      "rowLimit": 10000
     },
     "inputWidgets": {},
     "nuid": "1be2f759-1f22-4232-a95d-057aa69a040c",
     "showTitle": false,
     "tableResultSettingsMap": {},
     "title": ""
    }
   },
   "source": [
    "#### 🧪 Passo 2 : Subir a Tabela Silver no Banco"
   ]
  },
  {
   "cell_type": "code",
   "execution_count": 0,
   "metadata": {
    "application/vnd.databricks.v1+cell": {
     "cellMetadata": {
      "byteLimit": 2048000,
      "rowLimit": 10000
     },
     "inputWidgets": {},
     "nuid": "67683e10-6cba-4598-b425-f141c6aa1795",
     "showTitle": false,
     "tableResultSettingsMap": {},
     "title": ""
    }
   },
   "outputs": [],
   "source": [
    "# Remover a Tabela antiga visando Evitar Conflitos\n",
    "spark.sql(\"DROP TABLE IF EXISTS adb_cliente_savana_prd.daniel_silver.BaseCliente_Transacoes_Teste\")\n",
    "\n",
    "# Salvar na camada Silver\n",
    "df_silver.write.format(\"delta\").mode(\"overwrite\") \\\n",
    "    .saveAsTable(\"adb_cliente_savana_prd.daniel_silver.BaseClientes_Transacoes_Teste\")\n",
    "\n",
    "# Exibir\n",
    "display(df_silver)"
   ]
  }
 ],
 "metadata": {
  "application/vnd.databricks.v1+notebook": {
   "computePreferences": null,
   "dashboards": [],
   "environmentMetadata": {
    "base_environment": "",
    "environment_version": "2"
   },
   "inputWidgetPreferences": null,
   "language": "python",
   "notebookMetadata": {
    "pythonIndentUnit": 4
   },
   "notebookName": "Camada - Silver",
   "widgets": {}
  },
  "language_info": {
   "name": "python"
  }
 },
 "nbformat": 4,
 "nbformat_minor": 0
}
