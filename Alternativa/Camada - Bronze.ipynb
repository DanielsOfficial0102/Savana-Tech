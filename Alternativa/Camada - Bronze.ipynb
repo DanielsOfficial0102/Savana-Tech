{
 "cells": [
  {
   "cell_type": "markdown",
   "metadata": {
    "application/vnd.databricks.v1+cell": {
     "cellMetadata": {},
     "inputWidgets": {},
     "nuid": "2f13f446-acb2-4190-899a-0952943adb8f",
     "showTitle": false,
     "tableResultSettingsMap": {},
     "title": ""
    }
   },
   "source": [
    "## 🥉 Camada Bronze – Coleta e Validações"
   ]
  },
  {
   "cell_type": "markdown",
   "metadata": {
    "application/vnd.databricks.v1+cell": {
     "cellMetadata": {},
     "inputWidgets": {},
     "nuid": "4248f685-a87f-433a-930a-71cc110b62a7",
     "showTitle": false,
     "tableResultSettingsMap": {},
     "title": ""
    }
   },
   "source": [
    "\n",
    "#### 📌 Passo 1: Acessando o Storage da Azure \n",
    "\n",
    "###### Por motivos de problemas com o Unity Catalog, depois de pesquisas achei a alternativa de Montar com \"dbutils\" e até o momento está funcional"
   ]
  },
  {
   "cell_type": "code",
   "execution_count": 0,
   "metadata": {
    "application/vnd.databricks.v1+cell": {
     "cellMetadata": {
      "byteLimit": 2048000,
      "rowLimit": 10000
     },
     "inputWidgets": {},
     "nuid": "c0fa9149-650d-4d92-97a4-1fd852e194bc",
     "showTitle": false,
     "tableResultSettingsMap": {},
     "title": ""
    }
   },
   "outputs": [],
   "source": [
    "# Acesso do Blob Storage\n",
    "container_name = \"lake\"\n",
    "storage_account_name = \"lakesavana\"\n",
    "mount_point = \"/mnt/savana\"\n",
    "access_key = \"M4OYEhV7y/mOowqVqZRcLfm2taCeU7eF8WEROHP5gEV22EbpDFUZx5OsCtzjeoyJ2fna0FRGjqaz+AStYvlGeA==\"\n",
    "\n",
    "# Configurar acesso\n",
    "spark.conf.set(\n",
    "    f\"fs.azure.account.key.{storage_account_name}.blob.core.windows.net\",\n",
    "    access_key\n",
    ")"
   ]
  },
  {
   "cell_type": "markdown",
   "metadata": {
    "application/vnd.databricks.v1+cell": {
     "cellMetadata": {},
     "inputWidgets": {},
     "nuid": "ce0200e4-94d2-44f8-928a-eaf74009eaf7",
     "showTitle": false,
     "tableResultSettingsMap": {},
     "title": ""
    }
   },
   "source": [
    "\n",
    "#### 📌 Passo 2: Leitura dos Arquivos \"Parquet\"\n",
    "\n",
    "###### Agora vou Listar o que tem Dentro do Storage, ler o arquivo como Dataframe para ver como estão os vindo os Dados"
   ]
  },
  {
   "cell_type": "code",
   "execution_count": 0,
   "metadata": {
    "application/vnd.databricks.v1+cell": {
     "cellMetadata": {
      "byteLimit": 2048000,
      "rowLimit": 10000
     },
     "inputWidgets": {},
     "nuid": "d7f5dacc-ab58-4f86-bb94-dca2d21a6518",
     "showTitle": false,
     "tableResultSettingsMap": {},
     "title": ""
    }
   },
   "outputs": [],
   "source": [
    "# Listar os Arquivos do Blob (Finalidade é para confirmar que está funcionando a Conexão)\n",
    "dbutils.fs.ls(\"/mnt/savana/__unitystorage/catalogs/10af6d1d-32a1-46c7-95d7-ef4fbde791d4/tables/\")\n"
   ]
  },
  {
   "cell_type": "code",
   "execution_count": 0,
   "metadata": {
    "application/vnd.databricks.v1+cell": {
     "cellMetadata": {
      "byteLimit": 2048000,
      "rowLimit": 10000
     },
     "inputWidgets": {},
     "nuid": "315c0c9c-30d7-4865-8df9-23029a32b720",
     "showTitle": false,
     "tableResultSettingsMap": {},
     "title": ""
    }
   },
   "outputs": [],
   "source": [
    "# Lê cada pasta\n",
    "df_transacoes = spark.read.format(\"delta\").load(\"/mnt/savana/__unitystorage/catalogs/10af6d1d-32a1-46c7-95d7-ef4fbde791d4/tables/0a6c3f04-3748-4d9e-9b2f-6400c0dc680b\")\n",
    "df_clientes = spark.read.format(\"delta\").load(\"/mnt/savana/__unitystorage/catalogs/10af6d1d-32a1-46c7-95d7-ef4fbde791d4/tables/290d3ddb-6031-495f-a097-fbb09f50f4d8\")\n",
    "\n",
    "# Exibir os dados\n",
    "df_transacoes.display()\n",
    "df_clientes.display()"
   ]
  },
  {
   "cell_type": "markdown",
   "metadata": {
    "application/vnd.databricks.v1+cell": {
     "cellMetadata": {},
     "inputWidgets": {},
     "nuid": "06ccc87f-5b1c-4b53-8fb5-ad3f1973a68c",
     "showTitle": false,
     "tableResultSettingsMap": {},
     "title": ""
    }
   },
   "source": [
    "\n",
    "#### 📌 Passo 3: Efetuar a Camada Bronze\n",
    "\n",
    "###### Agora irei pegar as Duas tabelas (Base de Clientes / Transações) que transformei em Dataframe e jogar para dentro do meu banco"
   ]
  },
  {
   "cell_type": "code",
   "execution_count": 0,
   "metadata": {
    "application/vnd.databricks.v1+cell": {
     "cellMetadata": {
      "byteLimit": 2048000,
      "rowLimit": 10000
     },
     "inputWidgets": {},
     "nuid": "2292f79a-cac9-405b-8e1a-0ae69bea4bd1",
     "showTitle": false,
     "tableResultSettingsMap": {},
     "title": ""
    }
   },
   "outputs": [],
   "source": [
    "# Tabelas Bronze no catálogo\n",
    "df_transacoes.write.mode(\"overwrite\").saveAsTable(\"adb_cliente_savana_prd.daniel_bronze.transacoes_teste\")\n",
    "df_clientes.write.mode(\"overwrite\").saveAsTable(\"adb_cliente_savana_prd.daniel_bronze.clientes_teste\")"
   ]
  },
  {
   "cell_type": "markdown",
   "metadata": {
    "application/vnd.databricks.v1+cell": {
     "cellMetadata": {},
     "inputWidgets": {},
     "nuid": "58a14bd8-a83d-4267-a639-bbd2dafd75de",
     "showTitle": false,
     "tableResultSettingsMap": {},
     "title": ""
    }
   },
   "source": [
    "\n",
    "#### 📌 Passo 4: Verificar Conteudo das Colunas \n",
    "###### Antes de Entrar na \"Camada Silver\" e Realizar os Tratamentos fui em buscar de saber o que tem dentro das colunas para ter uma visão do que tratar"
   ]
  },
  {
   "cell_type": "code",
   "execution_count": 0,
   "metadata": {
    "application/vnd.databricks.v1+cell": {
     "cellMetadata": {
      "byteLimit": 2048000,
      "rowLimit": 10000
     },
     "inputWidgets": {},
     "nuid": "5091cd3d-78e6-4a71-9cfe-f330bf29ce5f",
     "showTitle": false,
     "tableResultSettingsMap": {},
     "title": ""
    }
   },
   "outputs": [],
   "source": [
    "from pyspark.sql.functions import col, count, trim, regexp_extract\n",
    "\n",
    "# Analisar os valores únicos da coluna Nome (Base de Cliente)\n",
    "df_clientes.groupBy(trim(col(\"Nome\")).alias(\"Nome\")) \\\n",
    "  .agg(count(\"*\").alias(\"Quantidade\")) \\\n",
    "  .orderBy(\"Quantidade\", ascending=False) \\\n",
    "  .display()\n",
    "\n",
    "# Analisar os valores únicos da coluna Cidade (Base de Clientes)\n",
    "df_clientes.groupBy(trim(col(\"Cidade\")).alias(\"Cidade\")) \\\n",
    "  .agg(count(\"*\").alias(\"Quantidade\")) \\\n",
    "  .orderBy(\"Quantidade\", ascending=False) \\\n",
    "  .display()\n",
    "\n",
    "# Analisar os valores únicos da coluna CPF (Base de Clientes)\n",
    "df_clientes.groupBy(trim(col(\"CPF\")).alias(\"CPF\")) \\\n",
    "  .agg(count(\"*\").alias(\"Quantidade\")) \\\n",
    "  .orderBy(\"Quantidade\", ascending=False) \\\n",
    "  .display()\n",
    "\n",
    "# Verificar se tem alguma string dentro da coluna CPF (Base de Clientes)\n",
    "df_clientes.withColumn(\"CPF\", regexp_extract(col(\"CPF\"), r'[a-zA-Z]', 0)) \\\n",
    "  .filter(col(\"CPF\") != \"\") \\\n",
    "  .groupBy(trim(col(\"CPF\")).alias(\"CPF\")) \\\n",
    "  .agg(count(\"*\").alias(\"Quantidade\")) \\\n",
    "  .orderBy(\"Quantidade\", ascending=False) \\\n",
    "  .display()\n",
    "\n",
    "# -----------------------------------------------------------------------------------------------\n",
    "\n",
    "# Analisar os valores únicos da coluna Meio De Pagamento (Transações)\n",
    "df_transacoes.groupBy(trim(col(\"Meio_de_Pgmto\")).alias(\"Meio_de_Pgmto\")) \\\n",
    "  .agg(count(\"*\").alias(\"Quantidade\")) \\\n",
    "  .orderBy(\"Quantidade\", ascending=False) \\\n",
    "  .display()\n",
    "\n",
    "# Analisar os valores únicos da coluna Tipo (Transações)\n",
    "df_transacoes.groupBy(trim(col(\"Tipo\")).alias(\"Tipo\")) \\\n",
    "  .agg(count(\"*\").alias(\"Quantidade\")) \\\n",
    "  .orderBy(\"Quantidade\", ascending=False) \\\n",
    "  .display()\n"
   ]
  }
 ],
 "metadata": {
  "application/vnd.databricks.v1+notebook": {
   "computePreferences": null,
   "dashboards": [],
   "environmentMetadata": {
    "base_environment": "",
    "environment_version": "2"
   },
   "inputWidgetPreferences": null,
   "language": "python",
   "notebookMetadata": {
    "pythonIndentUnit": 4
   },
   "notebookName": "Camada - Bronze",
   "widgets": {}
  },
  "language_info": {
   "name": "python"
  }
 },
 "nbformat": 4,
 "nbformat_minor": 0
}
