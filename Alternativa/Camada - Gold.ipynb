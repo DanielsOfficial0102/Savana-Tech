{
 "cells": [
  {
   "cell_type": "markdown",
   "metadata": {
    "application/vnd.databricks.v1+cell": {
     "cellMetadata": {},
     "inputWidgets": {},
     "nuid": "bad92083-b19c-4bd8-b4fa-8bef868a906a",
     "showTitle": false,
     "tableResultSettingsMap": {},
     "title": ""
    }
   },
   "source": [
    "\n",
    "## 🥇 Camada Gold – Analises e Consultas"
   ]
  },
  {
   "cell_type": "markdown",
   "metadata": {
    "application/vnd.databricks.v1+cell": {
     "cellMetadata": {},
     "inputWidgets": {},
     "nuid": "8da27c73-0aaa-402b-81be-e74677010778",
     "showTitle": false,
     "tableResultSettingsMap": {},
     "title": ""
    }
   },
   "source": [
    "\n",
    "#### 🪄 Passo 1 : Consultas (Pedida No Desafio + Extra) + Criação da Tabela"
   ]
  },
  {
   "cell_type": "markdown",
   "metadata": {
    "application/vnd.databricks.v1+cell": {
     "cellMetadata": {},
     "inputWidgets": {},
     "nuid": "4c92b7b1-4546-439d-9a30-60013783cedc",
     "showTitle": false,
     "tableResultSettingsMap": {},
     "title": ""
    }
   },
   "source": [
    "###### 💾 Analise 1: Quantidade de Transações por mês por usuário"
   ]
  },
  {
   "cell_type": "code",
   "execution_count": 0,
   "metadata": {
    "application/vnd.databricks.v1+cell": {
     "cellMetadata": {},
     "inputWidgets": {},
     "nuid": "1f3ff9a2-7b77-43c3-99e3-a6a466c84511",
     "showTitle": false,
     "tableResultSettingsMap": {},
     "title": ""
    }
   },
   "outputs": [],
   "source": [
    "%sql\n",
    "CREATE OR REPLACE TABLE adb_cliente_savana_prd.daniel_gold.1_qtd_transacoes_mes_usuario AS\n",
    "SELECT \n",
    "    ID_Cliente,\n",
    "    Nome,\n",
    "    CPF,\n",
    "    MONTH(DataCriacao) AS Mes,\n",
    "    YEAR(DataCriacao) AS Ano,\n",
    "    COUNT(ID_Transacao) AS Qtd_Transacoes\n",
    "FROM adb_cliente_savana_prd.daniel_silver.baseclientes_transacoes_teste\n",
    "GROUP BY ID_Cliente, YEAR(DataCriacao), MONTH(DataCriacao), Nome, CPF\n",
    "ORDER BY ID_Cliente, Mes, Ano\n"
   ]
  },
  {
   "cell_type": "markdown",
   "metadata": {
    "application/vnd.databricks.v1+cell": {
     "cellMetadata": {},
     "inputWidgets": {},
     "nuid": "0157d061-3e8d-46d4-87dd-e407ec5e5f3a",
     "showTitle": false,
     "tableResultSettingsMap": {},
     "title": ""
    }
   },
   "source": [
    "###### 💾 Analise 2: Valor total de transação por usuário por mês"
   ]
  },
  {
   "cell_type": "code",
   "execution_count": 0,
   "metadata": {
    "application/vnd.databricks.v1+cell": {
     "cellMetadata": {
      "byteLimit": 2048000,
      "implicitDf": true,
      "rowLimit": 10000
     },
     "collapsed": true,
     "inputWidgets": {},
     "nuid": "9c3fb797-9042-44d1-8f50-e0491a060ad2",
     "showTitle": false,
     "tableResultSettingsMap": {},
     "title": ""
    }
   },
   "outputs": [],
   "source": [
    "%sql\n",
    "CREATE OR REPLACE TABLE adb_cliente_savana_prd.daniel_gold.2_valor_total_transacoes_mes_usuario AS\n",
    "SELECT \n",
    "    ID_Cliente,\n",
    "    Nome,\n",
    "    CPF,\n",
    "    MONTH(DataCriacao) AS Mes,\n",
    "    YEAR(DataCriacao) AS Ano,\n",
    "    SUM(Valor) AS Valor_Total\n",
    "FROM adb_cliente_savana_prd.daniel_silver.baseclientes_transacoes_teste\n",
    "GROUP BY ID_Cliente, Nome, CPF, YEAR(DataCriacao), MONTH(DataCriacao)\n",
    "ORDER BY ID_Cliente, Ano, Mes"
   ]
  },
  {
   "cell_type": "markdown",
   "metadata": {
    "application/vnd.databricks.v1+cell": {
     "cellMetadata": {},
     "inputWidgets": {},
     "nuid": "e442e8ad-2711-40e4-8fc0-f0c669f53cfc",
     "showTitle": false,
     "tableResultSettingsMap": {},
     "title": ""
    }
   },
   "source": [
    "###### 💾 Analise 3: Volume de transações por cidade"
   ]
  },
  {
   "cell_type": "code",
   "execution_count": 0,
   "metadata": {
    "application/vnd.databricks.v1+cell": {
     "cellMetadata": {
      "byteLimit": 2048000,
      "implicitDf": true,
      "rowLimit": 10000
     },
     "inputWidgets": {},
     "nuid": "e9ac49f8-326b-470d-a6c2-c268eb98f144",
     "showTitle": false,
     "tableResultSettingsMap": {},
     "title": ""
    }
   },
   "outputs": [],
   "source": [
    "%sql\n",
    "CREATE OR REPLACE TABLE adb_cliente_savana_prd.daniel_gold.3_volume_transacoes_por_cidade AS\n",
    "SELECT \n",
    "    Cidade,\n",
    "    COUNT(*) AS Qtd_Transacoes,\n",
    "    ROUND(SUM(Valor), 4) AS Volume_Total\n",
    "FROM adb_cliente_savana_prd.daniel_silver.baseclientes_transacoes_teste\n",
    "GROUP BY Cidade\n",
    "ORDER BY Volume_Total DESC"
   ]
  },
  {
   "cell_type": "markdown",
   "metadata": {
    "application/vnd.databricks.v1+cell": {
     "cellMetadata": {},
     "inputWidgets": {},
     "nuid": "e6972fc5-7304-4ec7-931d-60f16b7cdf14",
     "showTitle": false,
     "tableResultSettingsMap": {},
     "title": ""
    }
   },
   "source": [
    "###### 💾 Analise 4: Última transação realizada por cada cliente"
   ]
  },
  {
   "cell_type": "code",
   "execution_count": 0,
   "metadata": {
    "application/vnd.databricks.v1+cell": {
     "cellMetadata": {
      "byteLimit": 2048000,
      "implicitDf": true,
      "rowLimit": 10000
     },
     "inputWidgets": {},
     "nuid": "4477f19d-87ae-47b4-a2b2-500e159cbdc0",
     "showTitle": false,
     "tableResultSettingsMap": {},
     "title": ""
    }
   },
   "outputs": [],
   "source": [
    "%sql\n",
    "CREATE OR REPLACE TABLE adb_cliente_savana_prd.daniel_gold.4_ultima_transacao_cliente AS\n",
    "WITH top_transacoes AS (\n",
    "  SELECT *,\n",
    "         ROW_NUMBER() OVER (\n",
    "           PARTITION BY ID_Cliente\n",
    "           ORDER BY DataCriacao DESC\n",
    "         ) AS rn\n",
    "  FROM adb_cliente_savana_prd.daniel_silver.baseclientes_transacoes_teste\n",
    ")\n",
    "SELECT \n",
    "  ID_Cliente,\n",
    "  Nome,\n",
    "  CPF,\n",
    "  Cidade,\n",
    "  DataCriacao,\n",
    "  Valor,\n",
    "  Tipo,\n",
    "  Meio_de_Pgmto\n",
    "FROM top_transacoes\n",
    "WHERE rn = 1\n"
   ]
  },
  {
   "cell_type": "markdown",
   "metadata": {
    "application/vnd.databricks.v1+cell": {
     "cellMetadata": {},
     "inputWidgets": {},
     "nuid": "ad08a77c-4c01-4faf-a63d-717e339b6533",
     "showTitle": false,
     "tableResultSettingsMap": {},
     "title": ""
    }
   },
   "source": [
    "###### 💾 Analise 5: Quantidade de registros com Data Futura x Data Anterior ou igual ao dia atual (Extra)"
   ]
  },
  {
   "cell_type": "code",
   "execution_count": 0,
   "metadata": {
    "application/vnd.databricks.v1+cell": {
     "cellMetadata": {
      "byteLimit": 2048000,
      "implicitDf": true,
      "rowLimit": 10000
     },
     "collapsed": true,
     "inputWidgets": {},
     "nuid": "c3ed3177-0e02-445d-bb2a-fda64ab90d62",
     "showTitle": false,
     "tableResultSettingsMap": {},
     "title": ""
    }
   },
   "outputs": [],
   "source": [
    "%sql\n",
    "CREATE OR REPLACE TABLE adb_cliente_savana_prd.daniel_gold.5_distribuicao_clientes_cidade AS\n",
    "SELECT \n",
    "    Cidade,\n",
    "    COUNT(DISTINCT ID_Cliente) AS Qtd_Clientes\n",
    "FROM adb_cliente_savana_prd.daniel_silver.baseclientes_transacoes_teste\n",
    "GROUP BY Cidade\n",
    "ORDER BY Qtd_Clientes DESC;"
   ]
  },
  {
   "cell_type": "markdown",
   "metadata": {
    "application/vnd.databricks.v1+cell": {
     "cellMetadata": {},
     "inputWidgets": {},
     "nuid": "88980c75-154c-4483-8134-3a1ebfa3681d",
     "showTitle": false,
     "tableResultSettingsMap": {},
     "title": ""
    }
   },
   "source": [
    "###### 💾 Analise 6: Quantidade de Registros em duas categorias: Data Futura e Data Válida (Extra)"
   ]
  },
  {
   "cell_type": "code",
   "execution_count": 0,
   "metadata": {
    "application/vnd.databricks.v1+cell": {
     "cellMetadata": {
      "byteLimit": 2048000,
      "implicitDf": true,
      "rowLimit": 10000
     },
     "inputWidgets": {},
     "nuid": "96302413-1027-45fe-9a9d-a7e30c3a9a07",
     "showTitle": false,
     "tableResultSettingsMap": {},
     "title": ""
    }
   },
   "outputs": [],
   "source": [
    "%sql\n",
    "CREATE OR REPLACE TABLE adb_cliente_savana_prd.daniel_gold.6_analise_datas_validas AS\n",
    "SELECT \n",
    "  SUM(CASE WHEN DataCriacao > current_date() THEN 1 ELSE 0 END) AS Data_Futura,\n",
    "  SUM(CASE WHEN DataCriacao <= current_date() THEN 1 ELSE 0 END) AS Data_Valida\n",
    "FROM adb_cliente_savana_prd.daniel_silver.baseclientes_transacoes_teste"
   ]
  }
 ],
 "metadata": {
  "application/vnd.databricks.v1+notebook": {
   "computePreferences": null,
   "dashboards": [],
   "environmentMetadata": {
    "base_environment": "",
    "environment_version": "2"
   },
   "inputWidgetPreferences": null,
   "language": "python",
   "notebookMetadata": {
    "mostRecentlyExecutedCommandWithImplicitDF": {
     "commandId": 6351713136675466,
     "dataframes": [
      "_sqldf"
     ]
    },
    "pythonIndentUnit": 4
   },
   "notebookName": "Camada - Gold",
   "widgets": {}
  },
  "language_info": {
   "name": "python"
  }
 },
 "nbformat": 4,
 "nbformat_minor": 0
}
