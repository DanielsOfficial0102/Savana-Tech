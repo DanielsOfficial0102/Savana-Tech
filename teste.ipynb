{
 "cells": [
  {
   "cell_type": "markdown",
   "metadata": {
    "application/vnd.databricks.v1+cell": {
     "cellMetadata": {},
     "inputWidgets": {},
     "nuid": "4248f685-a87f-433a-930a-71cc110b62a7",
     "showTitle": false,
     "tableResultSettingsMap": {},
     "title": ""
    }
   },
   "source": [
    "\n",
    "#### Acessando o Storage da Azure \n",
    "\n",
    "###### Por motivos de problemas com o Unity Catalog, depois de pesquisas achei a alternativa de Montar com \"dbutils\" e até o momento está funcional"
   ]
  },
  {
   "cell_type": "code",
   "execution_count": 0,
   "metadata": {
    "application/vnd.databricks.v1+cell": {
     "cellMetadata": {
      "byteLimit": 2048000,
      "rowLimit": 10000
     },
     "inputWidgets": {},
     "nuid": "c0fa9149-650d-4d92-97a4-1fd852e194bc",
     "showTitle": false,
     "tableResultSettingsMap": {},
     "title": ""
    }
   },
   "outputs": [],
   "source": [
    "# Acesso do Blob Storage\n",
    "\n",
    "container_name = \"lake\"\n",
    "storage_account_name = \"lakesavana\"\n",
    "mount_point = \"/mnt/savana\"\n",
    "access_key = \"M4OYEhV7y/mOowqVqZRcLfm2taCeU7eF8WEROHP5gEV22EbpDFUZx5OsCtzjeoyJ2fna0FRGjqaz+AStYvlGeA==\"\n",
    "\n",
    "# Configurar acesso\n",
    "spark.conf.set(\n",
    "    f\"fs.azure.account.key.{storage_account_name}.blob.core.windows.net\",\n",
    "    access_key\n",
    ")\n",
    "\n",
    "# Montar (executar só uma vez — se já montou, ignore)\n",
    "dbutils.fs.mount(\n",
    "    source = f\"wasbs://{container_name}@{storage_account_name}.blob.core.windows.net\",\n",
    "    mount_point = mount_point,\n",
    "    extra_configs = {\n",
    "        f\"fs.azure.account.key.{storage_account_name}.blob.core.windows.net\": access_key\n",
    "    }\n",
    ")\n"
   ]
  },
  {
   "cell_type": "markdown",
   "metadata": {
    "application/vnd.databricks.v1+cell": {
     "cellMetadata": {},
     "inputWidgets": {},
     "nuid": "ce0200e4-94d2-44f8-928a-eaf74009eaf7",
     "showTitle": false,
     "tableResultSettingsMap": {},
     "title": ""
    }
   },
   "source": [
    "\n",
    "#### Leitura dos Arquivos \"Parquet\"\n",
    "\n",
    "###### Agora vou Listar o que tem Dentro do Storage, ler o arquivo como Dataframe para ver como estão os vindo os Dados"
   ]
  },
  {
   "cell_type": "code",
   "execution_count": 0,
   "metadata": {
    "application/vnd.databricks.v1+cell": {
     "cellMetadata": {
      "byteLimit": 2048000,
      "rowLimit": 10000
     },
     "inputWidgets": {},
     "nuid": "d7f5dacc-ab58-4f86-bb94-dca2d21a6518",
     "showTitle": false,
     "tableResultSettingsMap": {},
     "title": ""
    }
   },
   "outputs": [],
   "source": [
    "# Listar os Arquivos do Blob (Finalidade é para confirmar que está funcionando a Conexão)\n",
    "dbutils.fs.ls(\"/mnt/savana/__unitystorage/catalogs/10af6d1d-32a1-46c7-95d7-ef4fbde791d4/tables/\")\n"
   ]
  },
  {
   "cell_type": "code",
   "execution_count": 0,
   "metadata": {
    "application/vnd.databricks.v1+cell": {
     "cellMetadata": {
      "byteLimit": 2048000,
      "rowLimit": 10000
     },
     "inputWidgets": {},
     "nuid": "315c0c9c-30d7-4865-8df9-23029a32b720",
     "showTitle": false,
     "tableResultSettingsMap": {},
     "title": ""
    }
   },
   "outputs": [],
   "source": [
    "# Lê cada pasta\n",
    "df_1 = spark.read.format(\"delta\").load(\"/mnt/savana/__unitystorage/catalogs/10af6d1d-32a1-46c7-95d7-ef4fbde791d4/tables/0a6c3f04-3748-4d9e-9b2f-6400c0dc680b\")\n",
    "df_2 = spark.read.format(\"delta\").load(\"/mnt/savana/__unitystorage/catalogs/10af6d1d-32a1-46c7-95d7-ef4fbde791d4/tables/2e95a1bd-6dcb-4bdb-84db-ba3925c1dff8\")\n",
    "df_3 = spark.read.format(\"delta\").load(\"/mnt/savana/__unitystorage/catalogs/10af6d1d-32a1-46c7-95d7-ef4fbde791d4/tables/290d3ddb-6031-495f-a097-fbb09f50f4d8\")\n",
    "\n",
    "# Exibir os dados\n",
    "df_1.display()\n",
    "df_2.display()\n",
    "df_3.display()\n"
   ]
  }
 ],
 "metadata": {
  "application/vnd.databricks.v1+notebook": {
   "computePreferences": null,
   "dashboards": [],
   "environmentMetadata": {
    "base_environment": "",
    "environment_version": "2"
   },
   "inputWidgetPreferences": null,
   "language": "python",
   "notebookMetadata": {
    "pythonIndentUnit": 4
   },
   "notebookName": "teste",
   "widgets": {}
  },
  "language_info": {
   "name": "python"
  }
 },
 "nbformat": 4,
 "nbformat_minor": 0
}
