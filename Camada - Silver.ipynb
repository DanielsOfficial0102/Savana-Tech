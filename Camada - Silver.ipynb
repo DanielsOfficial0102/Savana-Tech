{
 "cells": [
  {
   "cell_type": "markdown",
   "metadata": {
    "application/vnd.databricks.v1+cell": {
     "cellMetadata": {},
     "inputWidgets": {},
     "nuid": "127f0f98-c799-4d2f-bdee-9100d200429a",
     "showTitle": false,
     "tableResultSettingsMap": {},
     "title": ""
    }
   },
   "source": [
    "\n",
    "###🧪 Camada Silver – Tratamento e Enriquecimento"
   ]
  },
  {
   "cell_type": "code",
   "execution_count": 0,
   "metadata": {
    "application/vnd.databricks.v1+cell": {
     "cellMetadata": {
      "byteLimit": 2048000,
      "rowLimit": 10000
     },
     "inputWidgets": {},
     "nuid": "f1363062-a787-4daf-9e7e-6b7aa0d8ca0b",
     "showTitle": false,
     "tableResultSettingsMap": {},
     "title": ""
    }
   },
   "outputs": [],
   "source": [
    "# Importação\n",
    "from pyspark.sql.functions import trim, col, when, lit\n",
    "from pyspark.sql.types import StringType\n",
    "\n",
    "# Leitura das tabelas bronze\n",
    "df_transacoes = spark.table(\"adb_cliente_savana_prd.daniel_bronze.transacoes\")\n",
    "df_clientes = spark.table(\"adb_cliente_savana_prd.daniel_bronze.clientes\")\n",
    "\n",
    "# Renomear coluna ID para ID_Cliente (para join)\n",
    "df_clientes = df_clientes.withColumnRenamed(\"ID\", \"ID_Cliente\")\n",
    "\n",
    "# Join\n",
    "df_silver = df_transacoes.join(df_clientes, on=\"ID_Cliente\", how=\"left\")\n",
    "\n",
    "# Limpeza de espaços extras\n",
    "for campo in [\"Nome\", \"Cidade\", \"Meio_de_Pgmt\"]:\n",
    "    if campo in df_silver.columns:\n",
    "        df_silver = df_silver.withColumn(campo, trim(col(campo)))\n",
    "\n",
    "# Correções manuais de erros de Nome conhecidos\n",
    "df_silver = df_silver.withColumn(\"Nome\",\n",
    "    when(col(\"Nome\") == \"Ana\", \"Ana Costa\")\n",
    "    .when(col(\"Nome\") == \"Carlos\", \"Carlos Pereira\")\n",
    "    .when(col(\"Nome\") == \"Fernanda\", \"Fernanda Gomes\")\n",
    "    .when(col(\"Nome\") == \"Gabriel\", \"Gabriel Martins\")\n",
    "    .when(col(\"Nome\") == \"Jos\", \"José da Silva\")\n",
    "    .when(col(\"Nome\") == \"Jos da Silva\", \"José da Silva\")\n",
    "    .when(col(\"Nome\") == \"Maria\", \"Maria Oliveira\")\n",
    "    .when(col(\"Nome\") == \"Mariana\", \"Mariana Almeida\")\n",
    "    .when(col(\"Nome\") == \"Ricardo\", \"Ricardo Lima\")\n",
    "    .when(col(\"Nome\") == \"Roberto\", \"Roberto Santos\")\n",
    "    .when(col(\"Nome\") == \"Tatiane\", \"Tatiane Ramos\")\n",
    "    .otherwise(col(\"Nome\"))\n",
    ")\n",
    "\n",
    "df_silver = df_silver.withColumn(\"Cidade\",\n",
    "    when(col(\"Cidade\") == \"So Paulo\", \"São Paulo\")\n",
    "    .when(col(\"Cidade\") == \"Bralia\", \"Brasília\")\n",
    "    .when(col(\"Cidade\") == \"Braslia\", \"Brasília\")\n",
    "    .when(col(\"Cidade\") == \"Goinia\", \"Goiânia\")\n",
    "    .when(col(\"Cidade\") == \"Joo Pessoa\", \"João Pessoa\")\n",
    "    .otherwise(col(\"Cidade\"))\n",
    ")\n",
    "\n",
    "def padronizar_nulls(df):\n",
    "    for campo in df.schema.names:\n",
    "        if df.schema[campo].dataType == StringType():\n",
    "            df = df.withColumn(campo, when(trim(col(campo)) == \"\", None).otherwise(col(campo)))\n",
    "    return df\n",
    "\n",
    "# Aplicar ao df_silver\n",
    "df_silver = padronizar_nulls(df_silver)\n",
    "\n",
    "#----------------------------------------------------------------------\n",
    "# Salvar na camada Silver\n",
    "#df_silver.write.format(\"delta\").mode(\"overwrite\") \\\n",
    "#    .saveAsTable(\"adb_cliente_savana_prd.daniel_silver.BaseClientes_Transacoes\")\n",
    "\n",
    "# Exibir\n",
    "display(df_silver)"
   ]
  }
 ],
 "metadata": {
  "application/vnd.databricks.v1+notebook": {
   "computePreferences": null,
   "dashboards": [],
   "environmentMetadata": {
    "base_environment": "",
    "environment_version": "2"
   },
   "inputWidgetPreferences": null,
   "language": "python",
   "notebookMetadata": {
    "pythonIndentUnit": 4
   },
   "notebookName": "Camada - Silver",
   "widgets": {}
  },
  "language_info": {
   "name": "python"
  }
 },
 "nbformat": 4,
 "nbformat_minor": 0
}
