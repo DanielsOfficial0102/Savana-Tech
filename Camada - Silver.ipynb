{
 "cells": [
  {
   "cell_type": "markdown",
   "metadata": {
    "application/vnd.databricks.v1+cell": {
     "cellMetadata": {
      "byteLimit": 2048000,
      "rowLimit": 10000
     },
     "inputWidgets": {},
     "nuid": "76d4588f-ae90-461e-be9d-8de8af569263",
     "showTitle": false,
     "tableResultSettingsMap": {},
     "title": ""
    }
   },
   "source": [
    "## 🥈 Camada Silver – Validar e Tratar"
   ]
  },
  {
   "cell_type": "markdown",
   "metadata": {
    "application/vnd.databricks.v1+cell": {
     "cellMetadata": {
      "byteLimit": 2048000,
      "rowLimit": 10000
     },
     "inputWidgets": {},
     "nuid": "127f0f98-c799-4d2f-bdee-9100d200429a",
     "showTitle": false,
     "tableResultSettingsMap": {},
     "title": ""
    }
   },
   "source": [
    "\n",
    "####🧪 Camada Silver – Tratamento e Enriquecimento"
   ]
  },
  {
   "cell_type": "code",
   "execution_count": 0,
   "metadata": {
    "application/vnd.databricks.v1+cell": {
     "cellMetadata": {
      "byteLimit": 2048000,
      "rowLimit": 10000
     },
     "inputWidgets": {},
     "nuid": "f1363062-a787-4daf-9e7e-6b7aa0d8ca0b",
     "showTitle": false,
     "tableResultSettingsMap": {},
     "title": ""
    }
   },
   "outputs": [],
   "source": [
    "# Importação\n",
    "from pyspark.sql.functions import trim, col, when, lit\n",
    "from pyspark.sql.types import StringType\n",
    "\n",
    "# Leitura das tabelas bronze\n",
    "df_transacoes = spark.table(\"adb_cliente_savana_prd.daniel_bronze.transacoes\")\n",
    "df_clientes = spark.table(\"adb_cliente_savana_prd.daniel_bronze.clientes\")\n",
    "\n",
    "# Join entre as tabelas de transações e clientes, mantendo apenas as transações que possuem data não nula, Remove duplicatas para garantir que cada transação seja única.\n",
    "df_silver = df_transacoes.join(\n",
    "    df_clientes,\n",
    "    col(\"transacoes.ID_Transacao\") == col(\"clientes.Transacao\"),\n",
    "    \"inner\"\n",
    ").filter(\n",
    "    col(\"clientes.Dt_Transacao\").isNotNull()\n",
    ").distinct()\n",
    "\n",
    "# Limpeza de espaços extras\n",
    "for campo in [\"Nome\", \"Cidade\", \"Meio_de_Pgmt\"]:\n",
    "    if campo in df_silver.columns:\n",
    "        df_silver = df_silver.withColumn(campo, trim(col(campo)))\n",
    "\n",
    "# Correções manuais de erros de Nome conhecidos\n",
    "df_silver = df_silver.withColumn(\"Nome\",\n",
    "    when(col(\"Nome\") == \"Ana\", \"Ana Costa\")\n",
    "    .when(col(\"Nome\") == \"Carlos\", \"Carlos Pereira\")\n",
    "    .when(col(\"Nome\") == \"Fernanda\", \"Fernanda Gomes\")\n",
    "    .when(col(\"Nome\") == \"Gabriel\", \"Gabriel Martins\")\n",
    "    .when(col(\"Nome\") == \"Jos\", \"José da Silva\")\n",
    "    .when(col(\"Nome\") == \"Jos da Silva\", \"José da Silva\")\n",
    "    .when(col(\"Nome\") == \"Maria\", \"Maria Oliveira\")\n",
    "    .when(col(\"Nome\") == \"Mariana\", \"Mariana Almeida\")\n",
    "    .when(col(\"Nome\") == \"Ricardo\", \"Ricardo Lima\")\n",
    "    .when(col(\"Nome\") == \"Roberto\", \"Roberto Santos\")\n",
    "    .when(col(\"Nome\") == \"Tatiane\", \"Tatiane Ramos\")\n",
    "    .otherwise(col(\"Nome\"))\n",
    ")\n",
    "\n",
    "df_silver = df_silver.withColumn(\"Cidade\",\n",
    "    when(col(\"Cidade\") == \"So Paulo\", \"São Paulo\")\n",
    "    .when(col(\"Cidade\") == \"Bralia\", \"Brasília\")\n",
    "    .when(col(\"Cidade\") == \"Braslia\", \"Brasília\")\n",
    "    .when(col(\"Cidade\") == \"Goinia\", \"Goiânia\")\n",
    "    .when(col(\"Cidade\") == \"Joo Pessoa\", \"João Pessoa\")\n",
    "    .otherwise(col(\"Cidade\"))\n",
    ")\n",
    "\n",
    "def padronizar_nulls(df):\n",
    "    for campo in df.schema.names:\n",
    "        if df.schema[campo].dataType == StringType():\n",
    "            df = df.withColumn(campo, when(trim(col(campo)) == \"\", None).otherwise(col(campo)))\n",
    "    return df\n",
    "\n",
    "# Qualquer Dado que estiver Duplicado ele será Eliminado\n",
    "df_drop_duplicado = df_silver.dropDuplicates([\n",
    "    \"ID\", \"Nome\", \"Transacao\", \"ID_Transacao\", \"dt_transacao\", \"Cidade\"\n",
    "])\n",
    "\n",
    "# Aplicar ao df_silver\n",
    "df_silver = padronizar_nulls(df_silver)\n",
    "\n",
    "# Exibir\n",
    "display(df_silver)"
   ]
  },
  {
   "cell_type": "code",
   "execution_count": 0,
   "metadata": {
    "application/vnd.databricks.v1+cell": {
     "cellMetadata": {
      "byteLimit": 2048000,
      "rowLimit": 10000
     },
     "inputWidgets": {},
     "nuid": "9afe4434-29eb-407c-bffc-7b9bfe9b57d6",
     "showTitle": false,
     "tableResultSettingsMap": {},
     "title": ""
    }
   },
   "outputs": [],
   "source": [
    "# Conta total de registros\n",
    "total_registros = df_silver.count()\n",
    "\n",
    "# Conta total de IDs distintos\n",
    "ids_unicos = df_silver.select(\"ID\").distinct().count()\n",
    "\n",
    "# Validação\n",
    "if total_registros == ids_unicos:\n",
    "    print(\"✅ Todos os registros da coluna 'ID' são diferentes (únicos).\")\n",
    "else:\n",
    "    print(f\"⚠️ Existem IDs duplicados. Total de registros: {total_registros}, IDs únicos: {ids_unicos}\")"
   ]
  },
  {
   "cell_type": "markdown",
   "metadata": {
    "application/vnd.databricks.v1+cell": {
     "cellMetadata": {
      "byteLimit": 2048000,
      "rowLimit": 10000
     },
     "inputWidgets": {},
     "nuid": "cc472668-fdd7-4c8d-9d9f-3e26ef947cbf",
     "showTitle": false,
     "tableResultSettingsMap": {},
     "title": ""
    }
   },
   "source": [
    "\n",
    "####🧪 Camada Silver – Quebra de Duplicados"
   ]
  },
  {
   "cell_type": "code",
   "execution_count": 0,
   "metadata": {
    "application/vnd.databricks.v1+cell": {
     "cellMetadata": {
      "byteLimit": 2048000,
      "rowLimit": 10000
     },
     "inputWidgets": {},
     "nuid": "fd5d3b2c-9b65-40da-9c28-e80dc51e8cc9",
     "showTitle": false,
     "tableResultSettingsMap": {},
     "title": ""
    }
   },
   "outputs": [],
   "source": [
    "# Qualquer Dado que estiver Duplicado ele será Eliminado\n",
    "df_silver_finalizado = df_silver.dropDuplicates([\n",
    "    \"ID\", \"Nome\", \"Transacao\", \"ID_Transacao\", \"dt_transacao\", \"Cidade\"\n",
    "])\n",
    "display(df_silver_finalizado)"
   ]
  },
  {
   "cell_type": "code",
   "execution_count": 0,
   "metadata": {
    "application/vnd.databricks.v1+cell": {
     "cellMetadata": {
      "byteLimit": 2048000,
      "rowLimit": 10000
     },
     "inputWidgets": {},
     "nuid": "039af25f-082d-4add-86e0-0e3c90849bfb",
     "showTitle": false,
     "tableResultSettingsMap": {},
     "title": ""
    }
   },
   "outputs": [],
   "source": [
    "# Conta total de registros\n",
    "total_registros = df_silver_finalizado.count()\n",
    "\n",
    "# Conta total de IDs distintos\n",
    "ids_unicos = df_silver_finalizado.select(\"ID\").distinct().count()\n",
    "\n",
    "# Validação\n",
    "if total_registros == ids_unicos:\n",
    "    print(\" Todos os registros da coluna 'ID' são diferentes (únicos).\")\n",
    "else:\n",
    "    print(f\" Existem IDs duplicados. Total de registros: {total_registros}, IDs únicos: {ids_unicos}\")"
   ]
  },
  {
   "cell_type": "markdown",
   "metadata": {
    "application/vnd.databricks.v1+cell": {
     "cellMetadata": {
      "byteLimit": 2048000,
      "rowLimit": 10000
     },
     "inputWidgets": {},
     "nuid": "ee2996b8-8c20-4d33-88a9-e650f3c62da4",
     "showTitle": false,
     "tableResultSettingsMap": {},
     "title": ""
    }
   },
   "source": [
    "####🧪 Camada Silver – Subindo a Tabela"
   ]
  },
  {
   "cell_type": "code",
   "execution_count": 0,
   "metadata": {
    "application/vnd.databricks.v1+cell": {
     "cellMetadata": {
      "byteLimit": 2048000,
      "rowLimit": 10000
     },
     "inputWidgets": {},
     "nuid": "66d04ecc-a97c-4501-b3cb-ad635b400113",
     "showTitle": false,
     "tableResultSettingsMap": {},
     "title": ""
    }
   },
   "outputs": [],
   "source": [
    "# (Opcional) Remover a Tabela antiga visando Evitar Conflitos\n",
    "spark.sql(\"DROP TABLE IF EXISTS adb_cliente_savana_prd.daniel_silver.BaseCliente_Transacoes\")\n",
    "\n",
    "# Salvar na camada Silver\n",
    "df_silver_finalizado.write.format(\"delta\").mode(\"overwrite\") \\\n",
    "        .option(\"mergeSchema\", \"true\").saveAsTable(\"adb_cliente_savana_prd.daniel_silver.BaseClientes_Transacoes\")"
   ]
  },
  {
   "cell_type": "markdown",
   "metadata": {
    "application/vnd.databricks.v1+cell": {
     "cellMetadata": {
      "byteLimit": 2048000,
      "rowLimit": 10000
     },
     "inputWidgets": {},
     "nuid": "af42f729-fcf4-4ec7-9c6b-532b5d650b69",
     "showTitle": false,
     "tableResultSettingsMap": {},
     "title": ""
    }
   },
   "source": [
    "\n",
    "### 🚨 Alerta\n",
    "\n",
    "###### Observações: A coluna ID_Cliente aqui representa o cliente que fez a transação. Os IDs dos clientes vão até pelo menos 389, enquanto na tabela de clientes o maior ID parece ser bem menor (em torno de 5 nas primeiras linhas).\n",
    "\n",
    "###❗ Problema de Consistência:\n",
    "###### Não é possível fazer a junção diretamente, pois: A tabela de transações possui ID_Cliente com valores que não existem na tabela de clientes. O campo Transacao da tabela de clientes parece representar o número da transação, mas não há ligação clara com ID_Transacao.\n",
    "\n",
    "### ✅ Recomendações:\n",
    "###### Verifique a origem das tabelas: parece que elas vieram de fontes diferentes ou uma delas está desatualizada/incompleta. Corrija a tabela de clientes ou reavalie a tabela de transações. A única forma viável de fazer a junção é se: O campo ID da tabela de clientes bater com o ID_Cliente da tabela de transações.\n",
    "\n",
    "### 🏁 Decisão:\n",
    "###### O projeto é considerado um Prototipo com fins academicos, foi criado esse Markdown justamente para alertar sobre isso, Algumas decições aplicadas aqui seriam desconsideradas em um Projeto Real\n",
    "\n",
    "### ℹ️ Fontes:\n",
    "###### Para chegar as devidas conclusões foi usado algumas rodas de conversar com o Time sobre eticas de um Engenheiro de Dados, Validação junto a uma Inteligencia Artificial (ChatGPT)\n",
    "\n",
    "### 💼 Projeto Alternativo\n",
    "###### O Projeto alternativo ultiliza de uma Base de Dados mais coesa e não sofre com esse Tipo de Problema da Versão do Desafio"
   ]
  }
 ],
 "metadata": {
  "application/vnd.databricks.v1+notebook": {
   "computePreferences": null,
   "dashboards": [],
   "environmentMetadata": {
    "base_environment": "",
    "environment_version": "2"
   },
   "inputWidgetPreferences": null,
   "language": "python",
   "notebookMetadata": {
    "pythonIndentUnit": 4
   },
   "notebookName": "Camada - Silver",
   "widgets": {}
  },
  "language_info": {
   "name": "python"
  }
 },
 "nbformat": 4,
 "nbformat_minor": 0
}
